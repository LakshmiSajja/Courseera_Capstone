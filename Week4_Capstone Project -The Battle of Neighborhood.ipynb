{
    "cells": [
        {
            "cell_type": "markdown",
            "metadata": {
                "collapsed": true
            },
            "source": "## Problem Description and Background <a name=\"Problem Description\"></a>"
        },
        {
            "cell_type": "markdown",
            "metadata": {},
            "source": "One of the question many budding entrepreneurs would have is what is the right place to start a business for ex: Grocery Store.  Budding entrepreneurs would need to travel or enquire people who living in every community to find out an answer. Thanks to data socialization, we already have data available for every city now. So, Data science will help us in providing inputs required for entrepreneurs to find out suitable neighborhood to start or expand their business."
        },
        {
            "cell_type": "markdown",
            "metadata": {},
            "source": "## Data Description:"
        },
        {
            "cell_type": "markdown",
            "metadata": {},
            "source": "Steps to address business problem defined:\n* Find safest borough based on crime statistics\n* Find most common venues\n* Choose right neighbourhood within the borough\n\nFollowing data sources are needed to extract/generate required information:\n\n-  A dataset consisting of the crime statistics of each Neighbourhoof in Vancouver along with type of crime, recorded year, month and hour.\n\n-  Borough information from Wikipedia to map with existing neighborhood data\n\n-  Use OpenCage Geocoder to find safest borough and explore neighbourhood by plotting it on maps using Folium and perform exploratory data analysis.\n\n-  Fetch data using Four Square API to explore neighbourhood venues and to apply machine learning algorithm to cluster neighbourhoods and present findings by plotting it on maps using Folium."
        },
        {
            "cell_type": "code",
            "execution_count": null,
            "metadata": {},
            "outputs": [],
            "source": ""
        }
    ],
    "metadata": {
        "kernelspec": {
            "display_name": "Python 3.6",
            "language": "python",
            "name": "python3"
        },
        "language_info": {
            "codemirror_mode": {
                "name": "ipython",
                "version": 3
            },
            "file_extension": ".py",
            "mimetype": "text/x-python",
            "name": "python",
            "nbconvert_exporter": "python",
            "pygments_lexer": "ipython3",
            "version": "3.6.9"
        }
    },
    "nbformat": 4,
    "nbformat_minor": 1
}